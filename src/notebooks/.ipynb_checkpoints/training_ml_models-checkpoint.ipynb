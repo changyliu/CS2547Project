{
 "cells": [
  {
   "cell_type": "code",
   "execution_count": 1,
   "metadata": {},
   "outputs": [],
   "source": [
    "import numpy as np\n",
    "import pandas as pd\n",
    "import os\n",
    "import math\n",
    "\n",
    "from tqdm import tqdm"
   ]
  },
  {
   "cell_type": "code",
   "execution_count": 2,
   "metadata": {
    "scrolled": true
   },
   "outputs": [
    {
     "name": "stderr",
     "output_type": "stream",
     "text": [
      "  0%|                                                                                                                             | 0/28 [00:00<?, ?it/s]/var/folders/c_/dv98_90x7fv41pnx2fbrzslh0000gq/T/ipykernel_13860/1204990747.py:14: FutureWarning: The frame.append method is deprecated and will be removed from pandas in a future version. Use pandas.concat instead.\n",
      "  data_all_features = data_all_features.append(tmp_pd)\n",
      "/var/folders/c_/dv98_90x7fv41pnx2fbrzslh0000gq/T/ipykernel_13860/1204990747.py:15: FutureWarning: The frame.append method is deprecated and will be removed from pandas in a future version. Use pandas.concat instead.\n",
      "  data_all_labels = data_all_labels.append(tmp_label)\n",
      "/var/folders/c_/dv98_90x7fv41pnx2fbrzslh0000gq/T/ipykernel_13860/1204990747.py:14: FutureWarning: The frame.append method is deprecated and will be removed from pandas in a future version. Use pandas.concat instead.\n",
      "  data_all_features = data_all_features.append(tmp_pd)\n",
      "/var/folders/c_/dv98_90x7fv41pnx2fbrzslh0000gq/T/ipykernel_13860/1204990747.py:15: FutureWarning: The frame.append method is deprecated and will be removed from pandas in a future version. Use pandas.concat instead.\n",
      "  data_all_labels = data_all_labels.append(tmp_label)\n",
      "/var/folders/c_/dv98_90x7fv41pnx2fbrzslh0000gq/T/ipykernel_13860/1204990747.py:14: FutureWarning: The frame.append method is deprecated and will be removed from pandas in a future version. Use pandas.concat instead.\n",
      "  data_all_features = data_all_features.append(tmp_pd)\n",
      "/var/folders/c_/dv98_90x7fv41pnx2fbrzslh0000gq/T/ipykernel_13860/1204990747.py:15: FutureWarning: The frame.append method is deprecated and will be removed from pandas in a future version. Use pandas.concat instead.\n",
      "  data_all_labels = data_all_labels.append(tmp_label)\n",
      "/var/folders/c_/dv98_90x7fv41pnx2fbrzslh0000gq/T/ipykernel_13860/1204990747.py:14: FutureWarning: The frame.append method is deprecated and will be removed from pandas in a future version. Use pandas.concat instead.\n",
      "  data_all_features = data_all_features.append(tmp_pd)\n",
      "/var/folders/c_/dv98_90x7fv41pnx2fbrzslh0000gq/T/ipykernel_13860/1204990747.py:15: FutureWarning: The frame.append method is deprecated and will be removed from pandas in a future version. Use pandas.concat instead.\n",
      "  data_all_labels = data_all_labels.append(tmp_label)\n",
      "/var/folders/c_/dv98_90x7fv41pnx2fbrzslh0000gq/T/ipykernel_13860/1204990747.py:14: FutureWarning: The frame.append method is deprecated and will be removed from pandas in a future version. Use pandas.concat instead.\n",
      "  data_all_features = data_all_features.append(tmp_pd)\n",
      "/var/folders/c_/dv98_90x7fv41pnx2fbrzslh0000gq/T/ipykernel_13860/1204990747.py:15: FutureWarning: The frame.append method is deprecated and will be removed from pandas in a future version. Use pandas.concat instead.\n",
      "  data_all_labels = data_all_labels.append(tmp_label)\n",
      "/var/folders/c_/dv98_90x7fv41pnx2fbrzslh0000gq/T/ipykernel_13860/1204990747.py:14: FutureWarning: The frame.append method is deprecated and will be removed from pandas in a future version. Use pandas.concat instead.\n",
      "  data_all_features = data_all_features.append(tmp_pd)\n",
      "/var/folders/c_/dv98_90x7fv41pnx2fbrzslh0000gq/T/ipykernel_13860/1204990747.py:15: FutureWarning: The frame.append method is deprecated and will be removed from pandas in a future version. Use pandas.concat instead.\n",
      "  data_all_labels = data_all_labels.append(tmp_label)\n",
      "/var/folders/c_/dv98_90x7fv41pnx2fbrzslh0000gq/T/ipykernel_13860/1204990747.py:19: FutureWarning: The frame.append method is deprecated and will be removed from pandas in a future version. Use pandas.concat instead.\n",
      "  data_all_features = data_all_features.append(tmp_pd.iloc[: , :-2])\n",
      "/var/folders/c_/dv98_90x7fv41pnx2fbrzslh0000gq/T/ipykernel_13860/1204990747.py:20: FutureWarning: The frame.append method is deprecated and will be removed from pandas in a future version. Use pandas.concat instead.\n",
      "  data_all_labels = data_all_labels.append(tmp_pd.iloc[: , -2:])\n",
      "/var/folders/c_/dv98_90x7fv41pnx2fbrzslh0000gq/T/ipykernel_13860/1204990747.py:14: FutureWarning: The frame.append method is deprecated and will be removed from pandas in a future version. Use pandas.concat instead.\n",
      "  data_all_features = data_all_features.append(tmp_pd)\n",
      "/var/folders/c_/dv98_90x7fv41pnx2fbrzslh0000gq/T/ipykernel_13860/1204990747.py:15: FutureWarning: The frame.append method is deprecated and will be removed from pandas in a future version. Use pandas.concat instead.\n",
      "  data_all_labels = data_all_labels.append(tmp_label)\n",
      "/var/folders/c_/dv98_90x7fv41pnx2fbrzslh0000gq/T/ipykernel_13860/1204990747.py:14: FutureWarning: The frame.append method is deprecated and will be removed from pandas in a future version. Use pandas.concat instead.\n",
      "  data_all_features = data_all_features.append(tmp_pd)\n",
      "/var/folders/c_/dv98_90x7fv41pnx2fbrzslh0000gq/T/ipykernel_13860/1204990747.py:15: FutureWarning: The frame.append method is deprecated and will be removed from pandas in a future version. Use pandas.concat instead.\n",
      "  data_all_labels = data_all_labels.append(tmp_label)\n",
      " 36%|█████████████████████████████████████████▍                                                                          | 10/28 [00:00<00:00, 88.60it/s]/var/folders/c_/dv98_90x7fv41pnx2fbrzslh0000gq/T/ipykernel_13860/1204990747.py:14: FutureWarning: The frame.append method is deprecated and will be removed from pandas in a future version. Use pandas.concat instead.\n",
      "  data_all_features = data_all_features.append(tmp_pd)\n",
      "/var/folders/c_/dv98_90x7fv41pnx2fbrzslh0000gq/T/ipykernel_13860/1204990747.py:15: FutureWarning: The frame.append method is deprecated and will be removed from pandas in a future version. Use pandas.concat instead.\n",
      "  data_all_labels = data_all_labels.append(tmp_label)\n",
      "/var/folders/c_/dv98_90x7fv41pnx2fbrzslh0000gq/T/ipykernel_13860/1204990747.py:14: FutureWarning: The frame.append method is deprecated and will be removed from pandas in a future version. Use pandas.concat instead.\n",
      "  data_all_features = data_all_features.append(tmp_pd)\n",
      "/var/folders/c_/dv98_90x7fv41pnx2fbrzslh0000gq/T/ipykernel_13860/1204990747.py:15: FutureWarning: The frame.append method is deprecated and will be removed from pandas in a future version. Use pandas.concat instead.\n",
      "  data_all_labels = data_all_labels.append(tmp_label)\n",
      "/var/folders/c_/dv98_90x7fv41pnx2fbrzslh0000gq/T/ipykernel_13860/1204990747.py:19: FutureWarning: The frame.append method is deprecated and will be removed from pandas in a future version. Use pandas.concat instead.\n",
      "  data_all_features = data_all_features.append(tmp_pd.iloc[: , :-2])\n",
      "/var/folders/c_/dv98_90x7fv41pnx2fbrzslh0000gq/T/ipykernel_13860/1204990747.py:20: FutureWarning: The frame.append method is deprecated and will be removed from pandas in a future version. Use pandas.concat instead.\n",
      "  data_all_labels = data_all_labels.append(tmp_pd.iloc[: , -2:])\n",
      "/var/folders/c_/dv98_90x7fv41pnx2fbrzslh0000gq/T/ipykernel_13860/1204990747.py:19: FutureWarning: The frame.append method is deprecated and will be removed from pandas in a future version. Use pandas.concat instead.\n",
      "  data_all_features = data_all_features.append(tmp_pd.iloc[: , :-2])\n",
      "/var/folders/c_/dv98_90x7fv41pnx2fbrzslh0000gq/T/ipykernel_13860/1204990747.py:20: FutureWarning: The frame.append method is deprecated and will be removed from pandas in a future version. Use pandas.concat instead.\n",
      "  data_all_labels = data_all_labels.append(tmp_pd.iloc[: , -2:])\n",
      "/var/folders/c_/dv98_90x7fv41pnx2fbrzslh0000gq/T/ipykernel_13860/1204990747.py:19: FutureWarning: The frame.append method is deprecated and will be removed from pandas in a future version. Use pandas.concat instead.\n",
      "  data_all_features = data_all_features.append(tmp_pd.iloc[: , :-2])\n",
      "/var/folders/c_/dv98_90x7fv41pnx2fbrzslh0000gq/T/ipykernel_13860/1204990747.py:20: FutureWarning: The frame.append method is deprecated and will be removed from pandas in a future version. Use pandas.concat instead.\n",
      "  data_all_labels = data_all_labels.append(tmp_pd.iloc[: , -2:])\n",
      "/var/folders/c_/dv98_90x7fv41pnx2fbrzslh0000gq/T/ipykernel_13860/1204990747.py:19: FutureWarning: The frame.append method is deprecated and will be removed from pandas in a future version. Use pandas.concat instead.\n",
      "  data_all_features = data_all_features.append(tmp_pd.iloc[: , :-2])\n",
      "/var/folders/c_/dv98_90x7fv41pnx2fbrzslh0000gq/T/ipykernel_13860/1204990747.py:20: FutureWarning: The frame.append method is deprecated and will be removed from pandas in a future version. Use pandas.concat instead.\n",
      "  data_all_labels = data_all_labels.append(tmp_pd.iloc[: , -2:])\n",
      "/var/folders/c_/dv98_90x7fv41pnx2fbrzslh0000gq/T/ipykernel_13860/1204990747.py:19: FutureWarning: The frame.append method is deprecated and will be removed from pandas in a future version. Use pandas.concat instead.\n",
      "  data_all_features = data_all_features.append(tmp_pd.iloc[: , :-2])\n"
     ]
    },
    {
     "name": "stdout",
     "output_type": "stream",
     "text": [
      "cap132 (3100, 13) (3100, 2)\n",
      "(3100, 13) (3100, 2)\n",
      "cap133 (2900, 13) (2900, 2)\n",
      "(6000, 13) (6000, 2)\n",
      "cap131 (3300, 13) (3300, 2)\n",
      "(9300, 13) (9300, 2)\n",
      "cap124 (1503, 13) (1503, 2)\n",
      "(10803, 13) (10803, 2)\n",
      "(10803, 13) (10803, 2)\n",
      "cap121 (1203, 13) (1203, 2)\n",
      "(12006, 13) (12006, 2)\n",
      "cap123 (1504, 13) (1504, 2)\n",
      "(13510, 13) (13510, 2)\n",
      "cap64 (2900, 15)\n",
      "(16410, 13) (16410, 2)\n",
      "cap72 (5000, 13) (5000, 2)\n",
      "(21410, 13) (21410, 2)\n",
      "cap73 (5000, 13) (5000, 2)\n",
      "(26410, 13) (26410, 2)\n",
      "cap62 (3500, 13) (3500, 2)\n",
      "(29910, 13) (29910, 2)\n",
      "cap74 (5000, 13) (5000, 2)\n",
      "(34910, 13) (34910, 2)\n",
      "cap61 (2700, 15)\n",
      "(37610, 13) (37610, 2)\n",
      "cap93 (1700, 15)\n",
      "(39310, 13) (39310, 2)\n",
      "cap44 (475, 15)\n",
      "(39785, 13) (39785, 2)\n",
      "cap51 (1300, 15)\n",
      "(41085, 13) (41085, 2)\n",
      "cap92 (1800, 15)\n",
      "(42885, 13) (42885, 2)\n",
      "cap84 (3001, 15)\n"
     ]
    },
    {
     "name": "stderr",
     "output_type": "stream",
     "text": [
      "/var/folders/c_/dv98_90x7fv41pnx2fbrzslh0000gq/T/ipykernel_13860/1204990747.py:20: FutureWarning: The frame.append method is deprecated and will be removed from pandas in a future version. Use pandas.concat instead.\n",
      "  data_all_labels = data_all_labels.append(tmp_pd.iloc[: , -2:])\n",
      "/var/folders/c_/dv98_90x7fv41pnx2fbrzslh0000gq/T/ipykernel_13860/1204990747.py:19: FutureWarning: The frame.append method is deprecated and will be removed from pandas in a future version. Use pandas.concat instead.\n",
      "  data_all_features = data_all_features.append(tmp_pd.iloc[: , :-2])\n",
      "/var/folders/c_/dv98_90x7fv41pnx2fbrzslh0000gq/T/ipykernel_13860/1204990747.py:20: FutureWarning: The frame.append method is deprecated and will be removed from pandas in a future version. Use pandas.concat instead.\n",
      "  data_all_labels = data_all_labels.append(tmp_pd.iloc[: , -2:])\n",
      "/var/folders/c_/dv98_90x7fv41pnx2fbrzslh0000gq/T/ipykernel_13860/1204990747.py:19: FutureWarning: The frame.append method is deprecated and will be removed from pandas in a future version. Use pandas.concat instead.\n",
      "  data_all_features = data_all_features.append(tmp_pd.iloc[: , :-2])\n",
      "/var/folders/c_/dv98_90x7fv41pnx2fbrzslh0000gq/T/ipykernel_13860/1204990747.py:20: FutureWarning: The frame.append method is deprecated and will be removed from pandas in a future version. Use pandas.concat instead.\n",
      "  data_all_labels = data_all_labels.append(tmp_pd.iloc[: , -2:])\n",
      " 68%|██████████████████████████████████████████████████████████████████████████████▋                                     | 19/28 [00:00<00:00, 81.74it/s]/var/folders/c_/dv98_90x7fv41pnx2fbrzslh0000gq/T/ipykernel_13860/1204990747.py:19: FutureWarning: The frame.append method is deprecated and will be removed from pandas in a future version. Use pandas.concat instead.\n",
      "  data_all_features = data_all_features.append(tmp_pd.iloc[: , :-2])\n",
      "/var/folders/c_/dv98_90x7fv41pnx2fbrzslh0000gq/T/ipykernel_13860/1204990747.py:20: FutureWarning: The frame.append method is deprecated and will be removed from pandas in a future version. Use pandas.concat instead.\n",
      "  data_all_labels = data_all_labels.append(tmp_pd.iloc[: , -2:])\n",
      "/var/folders/c_/dv98_90x7fv41pnx2fbrzslh0000gq/T/ipykernel_13860/1204990747.py:19: FutureWarning: The frame.append method is deprecated and will be removed from pandas in a future version. Use pandas.concat instead.\n",
      "  data_all_features = data_all_features.append(tmp_pd.iloc[: , :-2])\n",
      "/var/folders/c_/dv98_90x7fv41pnx2fbrzslh0000gq/T/ipykernel_13860/1204990747.py:20: FutureWarning: The frame.append method is deprecated and will be removed from pandas in a future version. Use pandas.concat instead.\n",
      "  data_all_labels = data_all_labels.append(tmp_pd.iloc[: , -2:])\n",
      "/var/folders/c_/dv98_90x7fv41pnx2fbrzslh0000gq/T/ipykernel_13860/1204990747.py:19: FutureWarning: The frame.append method is deprecated and will be removed from pandas in a future version. Use pandas.concat instead.\n",
      "  data_all_features = data_all_features.append(tmp_pd.iloc[: , :-2])\n",
      "/var/folders/c_/dv98_90x7fv41pnx2fbrzslh0000gq/T/ipykernel_13860/1204990747.py:20: FutureWarning: The frame.append method is deprecated and will be removed from pandas in a future version. Use pandas.concat instead.\n",
      "  data_all_labels = data_all_labels.append(tmp_pd.iloc[: , -2:])\n",
      "/var/folders/c_/dv98_90x7fv41pnx2fbrzslh0000gq/T/ipykernel_13860/1204990747.py:19: FutureWarning: The frame.append method is deprecated and will be removed from pandas in a future version. Use pandas.concat instead.\n",
      "  data_all_features = data_all_features.append(tmp_pd.iloc[: , :-2])\n",
      "/var/folders/c_/dv98_90x7fv41pnx2fbrzslh0000gq/T/ipykernel_13860/1204990747.py:20: FutureWarning: The frame.append method is deprecated and will be removed from pandas in a future version. Use pandas.concat instead.\n",
      "  data_all_labels = data_all_labels.append(tmp_pd.iloc[: , -2:])\n",
      "/var/folders/c_/dv98_90x7fv41pnx2fbrzslh0000gq/T/ipykernel_13860/1204990747.py:14: FutureWarning: The frame.append method is deprecated and will be removed from pandas in a future version. Use pandas.concat instead.\n",
      "  data_all_features = data_all_features.append(tmp_pd)\n",
      "/var/folders/c_/dv98_90x7fv41pnx2fbrzslh0000gq/T/ipykernel_13860/1204990747.py:15: FutureWarning: The frame.append method is deprecated and will be removed from pandas in a future version. Use pandas.concat instead.\n",
      "  data_all_labels = data_all_labels.append(tmp_label)\n",
      "/var/folders/c_/dv98_90x7fv41pnx2fbrzslh0000gq/T/ipykernel_13860/1204990747.py:14: FutureWarning: The frame.append method is deprecated and will be removed from pandas in a future version. Use pandas.concat instead.\n",
      "  data_all_features = data_all_features.append(tmp_pd)\n",
      "/var/folders/c_/dv98_90x7fv41pnx2fbrzslh0000gq/T/ipykernel_13860/1204990747.py:15: FutureWarning: The frame.append method is deprecated and will be removed from pandas in a future version. Use pandas.concat instead.\n",
      "  data_all_labels = data_all_labels.append(tmp_label)\n",
      "/var/folders/c_/dv98_90x7fv41pnx2fbrzslh0000gq/T/ipykernel_13860/1204990747.py:14: FutureWarning: The frame.append method is deprecated and will be removed from pandas in a future version. Use pandas.concat instead.\n",
      "  data_all_features = data_all_features.append(tmp_pd)\n",
      "/var/folders/c_/dv98_90x7fv41pnx2fbrzslh0000gq/T/ipykernel_13860/1204990747.py:15: FutureWarning: The frame.append method is deprecated and will be removed from pandas in a future version. Use pandas.concat instead.\n",
      "  data_all_labels = data_all_labels.append(tmp_label)\n",
      "/var/folders/c_/dv98_90x7fv41pnx2fbrzslh0000gq/T/ipykernel_13860/1204990747.py:14: FutureWarning: The frame.append method is deprecated and will be removed from pandas in a future version. Use pandas.concat instead.\n",
      "  data_all_features = data_all_features.append(tmp_pd)\n",
      "/var/folders/c_/dv98_90x7fv41pnx2fbrzslh0000gq/T/ipykernel_13860/1204990747.py:15: FutureWarning: The frame.append method is deprecated and will be removed from pandas in a future version. Use pandas.concat instead.\n",
      "  data_all_labels = data_all_labels.append(tmp_label)\n",
      "/var/folders/c_/dv98_90x7fv41pnx2fbrzslh0000gq/T/ipykernel_13860/1204990747.py:19: FutureWarning: The frame.append method is deprecated and will be removed from pandas in a future version. Use pandas.concat instead.\n",
      "  data_all_features = data_all_features.append(tmp_pd.iloc[: , :-2])\n",
      "/var/folders/c_/dv98_90x7fv41pnx2fbrzslh0000gq/T/ipykernel_13860/1204990747.py:20: FutureWarning: The frame.append method is deprecated and will be removed from pandas in a future version. Use pandas.concat instead.\n",
      "  data_all_labels = data_all_labels.append(tmp_pd.iloc[: , -2:])\n",
      "100%|████████████████████████████████████████████████████████████████████████████████████████████████████████████████████| 28/28 [00:00<00:00, 80.23it/s]"
     ]
    },
    {
     "name": "stdout",
     "output_type": "stream",
     "text": [
      "(45886, 13) (45886, 2)\n",
      "cap91 (1100, 15)\n",
      "(46986, 13) (46986, 2)\n",
      "cap81 (3105, 15)\n",
      "(50091, 13) (50091, 2)\n",
      "cap43 (475, 15)\n",
      "(50566, 13) (50566, 2)\n",
      "cap82 (2909, 15)\n",
      "(53475, 13) (53475, 2)\n",
      "cap41 (383, 15)\n",
      "(53858, 13) (53858, 2)\n",
      "cap113 (5000, 13) (5000, 2)\n",
      "(58858, 13) (58858, 2)\n",
      "cap112 (5000, 13) (5000, 2)\n",
      "(63858, 13) (63858, 2)\n",
      "cap104 (1200, 13) (1200, 2)\n",
      "(65058, 13) (65058, 2)\n",
      "cap101 (800, 13) (800, 2)\n",
      "(65858, 13) (65858, 2)\n",
      "cap103 (900, 15)\n",
      "(66758, 13) (66758, 2)\n"
     ]
    },
    {
     "name": "stderr",
     "output_type": "stream",
     "text": [
      "\n"
     ]
    }
   ],
   "source": [
    "## Prep Data\n",
    "\n",
    "data_all_features = pd.DataFrame()\n",
    "data_all_labels = pd.DataFrame()\n",
    "\n",
    "for file in tqdm(os.listdir('/Users/chang/PhD_workplace/MIE1612/project/data/beasley98'+'/train')):\n",
    "    if not file.startswith('.'):\n",
    "        file_name = file[:-4]\n",
    "        feature_path = f'/Users/chang/PhD_workplace/MIE1612/project/data/training/cpfl_cuts_info_{file_name}_features.csv'\n",
    "        if os.path.exists(feature_path):\n",
    "            tmp_pd = pd.read_csv(feature_path)\n",
    "            tmp_label = pd.read_csv(f'/Users/chang/PhD_workplace/MIE1612/project/data/training/cpfl_cuts_info_{file_name}_labels.csv')\n",
    "            print(file_name, tmp_pd.shape, tmp_label.shape)\n",
    "            data_all_features = data_all_features.append(tmp_pd)\n",
    "            data_all_labels = data_all_labels.append(tmp_label)\n",
    "        else:\n",
    "            tmp_pd = pd.read_csv(f'/Users/chang/PhD_workplace/MIE1612/project/data/training/cpfl_cuts_info_{file_name}.csv')\n",
    "            print(file_name, tmp_pd.shape)\n",
    "            data_all_features = data_all_features.append(tmp_pd.iloc[: , :-2])\n",
    "            data_all_labels = data_all_labels.append(tmp_pd.iloc[: , -2:])\n",
    "    print(data_all_features.shape, data_all_labels.shape)\n",
    "            "
   ]
  },
  {
   "cell_type": "code",
   "execution_count": 4,
   "metadata": {},
   "outputs": [
    {
     "name": "stdout",
     "output_type": "stream",
     "text": [
      "(66758, 13)\n",
      "(66758, 2)\n"
     ]
    }
   ],
   "source": [
    "print(data_all_features.shape)\n",
    "print(data_all_labels.shape)"
   ]
  },
  {
   "cell_type": "code",
   "execution_count": 6,
   "metadata": {},
   "outputs": [],
   "source": [
    "# generate labels\n",
    "data_all_labels['delta_change'] = data_all_labels['MP_obj_after'] - data_all_labels['MP_obj_before']"
   ]
  },
  {
   "cell_type": "code",
   "execution_count": 7,
   "metadata": {},
   "outputs": [],
   "source": [
    "data_all_labels['pct_change'] = np.where(data_all_labels['MP_obj_after'] == 0, 0, (data_all_labels['MP_obj_after'] - data_all_labels['MP_obj_before'])/data_all_labels['MP_obj_after'])\n"
   ]
  },
  {
   "cell_type": "code",
   "execution_count": 8,
   "metadata": {},
   "outputs": [],
   "source": [
    "data_all_labels['label'] = np.where(data_all_labels['pct_change'] > 0.0003, 1, 0)"
   ]
  },
  {
   "cell_type": "code",
   "execution_count": 9,
   "metadata": {},
   "outputs": [
    {
     "data": {
      "text/html": [
       "<div>\n",
       "<style scoped>\n",
       "    .dataframe tbody tr th:only-of-type {\n",
       "        vertical-align: middle;\n",
       "    }\n",
       "\n",
       "    .dataframe tbody tr th {\n",
       "        vertical-align: top;\n",
       "    }\n",
       "\n",
       "    .dataframe thead th {\n",
       "        text-align: right;\n",
       "    }\n",
       "</style>\n",
       "<table border=\"1\" class=\"dataframe\">\n",
       "  <thead>\n",
       "    <tr style=\"text-align: right;\">\n",
       "      <th></th>\n",
       "      <th>MP_obj_before</th>\n",
       "      <th>MP_obj_after</th>\n",
       "      <th>delta_change</th>\n",
       "      <th>pct_change</th>\n",
       "      <th>label</th>\n",
       "    </tr>\n",
       "  </thead>\n",
       "  <tbody>\n",
       "    <tr>\n",
       "      <th>568</th>\n",
       "      <td>6.618569e+07</td>\n",
       "      <td>6.623303e+07</td>\n",
       "      <td>4.734313e+04</td>\n",
       "      <td>7.147963e-04</td>\n",
       "      <td>1</td>\n",
       "    </tr>\n",
       "    <tr>\n",
       "      <th>2301</th>\n",
       "      <td>1.052417e+08</td>\n",
       "      <td>1.052417e+08</td>\n",
       "      <td>5.960464e-08</td>\n",
       "      <td>5.663595e-16</td>\n",
       "      <td>0</td>\n",
       "    </tr>\n",
       "    <tr>\n",
       "      <th>1047</th>\n",
       "      <td>4.419042e+07</td>\n",
       "      <td>4.439560e+07</td>\n",
       "      <td>2.051831e+05</td>\n",
       "      <td>4.621700e-03</td>\n",
       "      <td>1</td>\n",
       "    </tr>\n",
       "    <tr>\n",
       "      <th>870</th>\n",
       "      <td>3.443964e+07</td>\n",
       "      <td>3.483774e+07</td>\n",
       "      <td>3.980948e+05</td>\n",
       "      <td>1.142711e-02</td>\n",
       "      <td>1</td>\n",
       "    </tr>\n",
       "    <tr>\n",
       "      <th>178</th>\n",
       "      <td>1.106192e+08</td>\n",
       "      <td>1.120794e+08</td>\n",
       "      <td>1.460192e+06</td>\n",
       "      <td>1.302820e-02</td>\n",
       "      <td>1</td>\n",
       "    </tr>\n",
       "  </tbody>\n",
       "</table>\n",
       "</div>"
      ],
      "text/plain": [
       "      MP_obj_before  MP_obj_after  delta_change    pct_change  label\n",
       "568    6.618569e+07  6.623303e+07  4.734313e+04  7.147963e-04      1\n",
       "2301   1.052417e+08  1.052417e+08  5.960464e-08  5.663595e-16      0\n",
       "1047   4.419042e+07  4.439560e+07  2.051831e+05  4.621700e-03      1\n",
       "870    3.443964e+07  3.483774e+07  3.980948e+05  1.142711e-02      1\n",
       "178    1.106192e+08  1.120794e+08  1.460192e+06  1.302820e-02      1"
      ]
     },
     "execution_count": 9,
     "metadata": {},
     "output_type": "execute_result"
    }
   ],
   "source": [
    "data_all_labels[data_all_labels['delta_change'] > 0].sample(5)"
   ]
  },
  {
   "cell_type": "code",
   "execution_count": 10,
   "metadata": {},
   "outputs": [
    {
     "data": {
      "text/plain": [
       "6685"
      ]
     },
     "execution_count": 10,
     "metadata": {},
     "output_type": "execute_result"
    }
   ],
   "source": [
    "data_all_labels[data_all_labels['label'] == 1]['label'].sum()"
   ]
  },
  {
   "cell_type": "code",
   "execution_count": 11,
   "metadata": {},
   "outputs": [
    {
     "data": {
      "text/plain": [
       "(66758, 5)"
      ]
     },
     "execution_count": 11,
     "metadata": {},
     "output_type": "execute_result"
    }
   ],
   "source": [
    "data_all_labels.shape"
   ]
  },
  {
   "cell_type": "code",
   "execution_count": 12,
   "metadata": {},
   "outputs": [
    {
     "data": {
      "text/plain": [
       "<AxesSubplot:ylabel='Frequency'>"
      ]
     },
     "execution_count": 12,
     "metadata": {},
     "output_type": "execute_result"
    },
    {
     "data": {
      "image/png": "[encoded data removed]",
      "text/plain": [
       "<Figure size 640x480 with 1 Axes>"
      ]
     },
     "metadata": {},
     "output_type": "display_data"
    }
   ],
   "source": [
    "data_all_labels['pct_change'].plot.hist(bins=100, alpha=0.5)"
   ]
  },
  {
   "cell_type": "code",
   "execution_count": 13,
   "metadata": {},
   "outputs": [
    {
     "data": {
      "text/plain": [
       "0.000306671607203064"
      ]
     },
     "execution_count": 13,
     "metadata": {},
     "output_type": "execute_result"
    }
   ],
   "source": [
    "np.percentile(data_all_labels['pct_change'], 90)"
   ]
  },
  {
   "cell_type": "code",
   "execution_count": 14,
   "metadata": {},
   "outputs": [
    {
     "data": {
      "text/html": [
       "<div>\n",
       "<style scoped>\n",
       "    .dataframe tbody tr th:only-of-type {\n",
       "        vertical-align: middle;\n",
       "    }\n",
       "\n",
       "    .dataframe tbody tr th {\n",
       "        vertical-align: top;\n",
       "    }\n",
       "\n",
       "    .dataframe thead th {\n",
       "        text-align: right;\n",
       "    }\n",
       "</style>\n",
       "<table border=\"1\" class=\"dataframe\">\n",
       "  <thead>\n",
       "    <tr style=\"text-align: right;\">\n",
       "      <th></th>\n",
       "      <th>scenario_num</th>\n",
       "      <th>iteration</th>\n",
       "      <th>instance</th>\n",
       "      <th>numCustomer</th>\n",
       "      <th>numLocation</th>\n",
       "      <th>tot_num_scenario</th>\n",
       "      <th>past_num_cut</th>\n",
       "      <th>previous_cut_all_bool</th>\n",
       "      <th>previous_cut_bool</th>\n",
       "      <th>sub_obj_gap</th>\n",
       "      <th>pct_non_zero_in_gamma</th>\n",
       "      <th>master_nsol</th>\n",
       "      <th>sub_optimal_q_value</th>\n",
       "    </tr>\n",
       "  </thead>\n",
       "  <tbody>\n",
       "    <tr>\n",
       "      <th>4805</th>\n",
       "      <td>5.0</td>\n",
       "      <td>48.0</td>\n",
       "      <td>cap72</td>\n",
       "      <td>50.0</td>\n",
       "      <td>16.0</td>\n",
       "      <td>100.0</td>\n",
       "      <td>49.0</td>\n",
       "      <td>1.0</td>\n",
       "      <td>1.0</td>\n",
       "      <td>1.000000</td>\n",
       "      <td>0.1875</td>\n",
       "      <td>0.000000e+00</td>\n",
       "      <td>3.303322e+08</td>\n",
       "    </tr>\n",
       "    <tr>\n",
       "      <th>1042</th>\n",
       "      <td>42.0</td>\n",
       "      <td>10.0</td>\n",
       "      <td>cap84</td>\n",
       "      <td>50.0</td>\n",
       "      <td>25.0</td>\n",
       "      <td>100.0</td>\n",
       "      <td>11.0</td>\n",
       "      <td>1.0</td>\n",
       "      <td>1.0</td>\n",
       "      <td>0.027725</td>\n",
       "      <td>0.2400</td>\n",
       "      <td>1.774980e+08</td>\n",
       "      <td>1.825595e+08</td>\n",
       "    </tr>\n",
       "    <tr>\n",
       "      <th>1008</th>\n",
       "      <td>8.0</td>\n",
       "      <td>10.0</td>\n",
       "      <td>cap91</td>\n",
       "      <td>50.0</td>\n",
       "      <td>25.0</td>\n",
       "      <td>100.0</td>\n",
       "      <td>11.0</td>\n",
       "      <td>1.0</td>\n",
       "      <td>1.0</td>\n",
       "      <td>0.001300</td>\n",
       "      <td>0.8800</td>\n",
       "      <td>8.783187e+07</td>\n",
       "      <td>8.794618e+07</td>\n",
       "    </tr>\n",
       "    <tr>\n",
       "      <th>465</th>\n",
       "      <td>65.0</td>\n",
       "      <td>4.0</td>\n",
       "      <td>cap123</td>\n",
       "      <td>50.0</td>\n",
       "      <td>50.0</td>\n",
       "      <td>100.0</td>\n",
       "      <td>5.0</td>\n",
       "      <td>1.0</td>\n",
       "      <td>1.0</td>\n",
       "      <td>0.326429</td>\n",
       "      <td>0.8600</td>\n",
       "      <td>4.856132e+07</td>\n",
       "      <td>7.209536e+07</td>\n",
       "    </tr>\n",
       "    <tr>\n",
       "      <th>2441</th>\n",
       "      <td>41.0</td>\n",
       "      <td>24.0</td>\n",
       "      <td>cap73</td>\n",
       "      <td>50.0</td>\n",
       "      <td>16.0</td>\n",
       "      <td>100.0</td>\n",
       "      <td>25.0</td>\n",
       "      <td>1.0</td>\n",
       "      <td>1.0</td>\n",
       "      <td>1.000000</td>\n",
       "      <td>0.1875</td>\n",
       "      <td>0.000000e+00</td>\n",
       "      <td>3.699013e+08</td>\n",
       "    </tr>\n",
       "  </tbody>\n",
       "</table>\n",
       "</div>"
      ],
      "text/plain": [
       "      scenario_num  iteration instance  numCustomer  numLocation  \\\n",
       "4805           5.0       48.0    cap72         50.0         16.0   \n",
       "1042          42.0       10.0    cap84         50.0         25.0   \n",
       "1008           8.0       10.0    cap91         50.0         25.0   \n",
       "465           65.0        4.0   cap123         50.0         50.0   \n",
       "2441          41.0       24.0    cap73         50.0         16.0   \n",
       "\n",
       "      tot_num_scenario  past_num_cut  previous_cut_all_bool  \\\n",
       "4805             100.0          49.0                    1.0   \n",
       "1042             100.0          11.0                    1.0   \n",
       "1008             100.0          11.0                    1.0   \n",
       "465              100.0           5.0                    1.0   \n",
       "2441             100.0          25.0                    1.0   \n",
       "\n",
       "      previous_cut_bool  sub_obj_gap  pct_non_zero_in_gamma   master_nsol  \\\n",
       "4805                1.0     1.000000                 0.1875  0.000000e+00   \n",
       "1042                1.0     0.027725                 0.2400  1.774980e+08   \n",
       "1008                1.0     0.001300                 0.8800  8.783187e+07   \n",
       "465                 1.0     0.326429                 0.8600  4.856132e+07   \n",
       "2441                1.0     1.000000                 0.1875  0.000000e+00   \n",
       "\n",
       "      sub_optimal_q_value  \n",
       "4805         3.303322e+08  \n",
       "1042         1.825595e+08  \n",
       "1008         8.794618e+07  \n",
       "465          7.209536e+07  \n",
       "2441         3.699013e+08  "
      ]
     },
     "execution_count": 14,
     "metadata": {},
     "output_type": "execute_result"
    }
   ],
   "source": [
    "data_all_features.sample(5)"
   ]
  },
  {
   "cell_type": "code",
   "execution_count": 15,
   "metadata": {},
   "outputs": [],
   "source": [
    "feature_cols = ['scenario_num', 'iteration', 'numCustomer', 'numLocation', 'tot_num_scenario', 'past_num_cut',\n",
    "               'previous_cut_all_bool', 'previous_cut_bool', 'sub_obj_gap', 'pct_non_zero_in_gamma']"
   ]
  },
  {
   "cell_type": "markdown",
   "metadata": {},
   "source": [
    "## Models\n"
   ]
  },
  {
   "cell_type": "code",
   "execution_count": 17,
   "metadata": {},
   "outputs": [],
   "source": [
    "from sklearn.linear_model import LogisticRegression\n",
    "from sklearn.model_selection import train_test_split\n",
    "from sklearn import metrics"
   ]
  },
  {
   "cell_type": "code",
   "execution_count": 18,
   "metadata": {},
   "outputs": [],
   "source": [
    "## split train and test\n",
    "X_train, X_test, y_train, y_test = train_test_split(data_all_features[feature_cols], data_all_labels['label'], test_size=0.33, random_state=42)\n"
   ]
  },
  {
   "cell_type": "code",
   "execution_count": 56,
   "metadata": {},
   "outputs": [],
   "source": [
    "log_reg_clf = LogisticRegression(random_state=0).fit(X_train, y_train)\n",
    "y_pred_proba_log_reg = log_reg_clf.predict_proba(X_test)\n",
    "threshold = 0.3\n",
    "y_pred_log_reg = (y_pred_proba_log_reg[:,1] >= threshold).astype(bool)"
   ]
  },
  {
   "cell_type": "code",
   "execution_count": 57,
   "metadata": {},
   "outputs": [
    {
     "data": {
      "text/plain": [
       "0.933496455315656"
      ]
     },
     "execution_count": 57,
     "metadata": {},
     "output_type": "execute_result"
    }
   ],
   "source": [
    "metrics.roc_auc_score(y_test, y_pred_proba[:, 1])"
   ]
  },
  {
   "cell_type": "code",
   "execution_count": 58,
   "metadata": {},
   "outputs": [
    {
     "data": {
      "text/plain": [
       "0.9316451629102623"
      ]
     },
     "execution_count": 58,
     "metadata": {},
     "output_type": "execute_result"
    }
   ],
   "source": [
    "metrics.roc_auc_score(y_train, clf.predict_proba(X_train)[:, 1])"
   ]
  },
  {
   "cell_type": "code",
   "execution_count": 59,
   "metadata": {},
   "outputs": [
    {
     "name": "stdout",
     "output_type": "stream",
     "text": [
      "              precision    recall  f1-score   support\n",
      "\n",
      "           0       0.96      0.93      0.94     19839\n",
      "           1       0.50      0.64      0.56      2192\n",
      "\n",
      "    accuracy                           0.90     22031\n",
      "   macro avg       0.73      0.78      0.75     22031\n",
      "weighted avg       0.91      0.90      0.91     22031\n",
      "\n"
     ]
    }
   ],
   "source": [
    "print(metrics.classification_report(y_test, y_pred))"
   ]
  },
  {
   "cell_type": "code",
   "execution_count": 60,
   "metadata": {},
   "outputs": [
    {
     "data": {
      "image/png": "[encoded data removed]",
      "text/plain": [
       "<Figure size 640x480 with 1 Axes>"
      ]
     },
     "metadata": {},
     "output_type": "display_data"
    }
   ],
   "source": [
    "from sklearn.metrics import PrecisionRecallDisplay\n",
    "\n",
    "display = PrecisionRecallDisplay.from_predictions(y_test, y_pred, name=\"LogReg\")"
   ]
  },
  {
   "cell_type": "code",
   "execution_count": 61,
   "metadata": {},
   "outputs": [],
   "source": [
    "from sklearn import svm"
   ]
  },
  {
   "cell_type": "code",
   "execution_count": 63,
   "metadata": {},
   "outputs": [
    {
     "data": {
      "text/html": [
       "<style>#sk-container-id-2 {color: black;background-color: white;}#sk-container-id-2 pre{padding: 0;}#sk-container-id-2 div.sk-toggleable {background-color: white;}#sk-container-id-2 label.sk-toggleable__label {cursor: pointer;display: block;width: 100%;margin-bottom: 0;padding: 0.3em;box-sizing: border-box;text-align: center;}#sk-container-id-2 label.sk-toggleable__label-arrow:before {content: \"▸\";float: left;margin-right: 0.25em;color: #696969;}#sk-container-id-2 label.sk-toggleable__label-arrow:hover:before {color: black;}#sk-container-id-2 div.sk-estimator:hover label.sk-toggleable__label-arrow:before {color: black;}#sk-container-id-2 div.sk-toggleable__content {max-height: 0;max-width: 0;overflow: hidden;text-align: left;background-color: #f0f8ff;}#sk-container-id-2 div.sk-toggleable__content pre {margin: 0.2em;color: black;border-radius: 0.25em;background-color: #f0f8ff;}#sk-container-id-2 input.sk-toggleable__control:checked~div.sk-toggleable__content {max-height: 200px;max-width: 100%;overflow: auto;}#sk-container-id-2 input.sk-toggleable__control:checked~label.sk-toggleable__label-arrow:before {content: \"▾\";}#sk-container-id-2 div.sk-estimator input.sk-toggleable__control:checked~label.sk-toggleable__label {background-color: #d4ebff;}#sk-container-id-2 div.sk-label input.sk-toggleable__control:checked~label.sk-toggleable__label {background-color: #d4ebff;}#sk-container-id-2 input.sk-hidden--visually {border: 0;clip: rect(1px 1px 1px 1px);clip: rect(1px, 1px, 1px, 1px);height: 1px;margin: -1px;overflow: hidden;padding: 0;position: absolute;width: 1px;}#sk-container-id-2 div.sk-estimator {font-family: monospace;background-color: #f0f8ff;border: 1px dotted black;border-radius: 0.25em;box-sizing: border-box;margin-bottom: 0.5em;}#sk-container-id-2 div.sk-estimator:hover {background-color: #d4ebff;}#sk-container-id-2 div.sk-parallel-item::after {content: \"\";width: 100%;border-bottom: 1px solid gray;flex-grow: 1;}#sk-container-id-2 div.sk-label:hover label.sk-toggleable__label {background-color: #d4ebff;}#sk-container-id-2 div.sk-serial::before {content: \"\";position: absolute;border-left: 1px solid gray;box-sizing: border-box;top: 0;bottom: 0;left: 50%;z-index: 0;}#sk-container-id-2 div.sk-serial {display: flex;flex-direction: column;align-items: center;background-color: white;padding-right: 0.2em;padding-left: 0.2em;position: relative;}#sk-container-id-2 div.sk-item {position: relative;z-index: 1;}#sk-container-id-2 div.sk-parallel {display: flex;align-items: stretch;justify-content: center;background-color: white;position: relative;}#sk-container-id-2 div.sk-item::before, #sk-container-id-2 div.sk-parallel-item::before {content: \"\";position: absolute;border-left: 1px solid gray;box-sizing: border-box;top: 0;bottom: 0;left: 50%;z-index: -1;}#sk-container-id-2 div.sk-parallel-item {display: flex;flex-direction: column;z-index: 1;position: relative;background-color: white;}#sk-container-id-2 div.sk-parallel-item:first-child::after {align-self: flex-end;width: 50%;}#sk-container-id-2 div.sk-parallel-item:last-child::after {align-self: flex-start;width: 50%;}#sk-container-id-2 div.sk-parallel-item:only-child::after {width: 0;}#sk-container-id-2 div.sk-dashed-wrapped {border: 1px dashed gray;margin: 0 0.4em 0.5em 0.4em;box-sizing: border-box;padding-bottom: 0.4em;background-color: white;}#sk-container-id-2 div.sk-label label {font-family: monospace;font-weight: bold;display: inline-block;line-height: 1.2em;}#sk-container-id-2 div.sk-label-container {text-align: center;}#sk-container-id-2 div.sk-container {/* jupyter's `normalize.less` sets `[hidden] { display: none; }` but bootstrap.min.css set `[hidden] { display: none !important; }` so we also need the `!important` here to be able to override the default hidden behavior on the sphinx rendered scikit-learn.org. See: https://github.com/scikit-learn/scikit-learn/issues/21755 */display: inline-block !important;position: relative;}#sk-container-id-2 div.sk-text-repr-fallback {display: none;}</style><div id=\"sk-container-id-2\" class=\"sk-top-container\"><div class=\"sk-text-repr-fallback\"><pre>SVC()</pre><b>In a Jupyter environment, please rerun this cell to show the HTML representation or trust the notebook. <br />On GitHub, the HTML representation is unable to render, please try loading this page with nbviewer.org.</b></div><div class=\"sk-container\" hidden><div class=\"sk-item\"><div class=\"sk-estimator sk-toggleable\"><input class=\"sk-toggleable__control sk-hidden--visually\" id=\"sk-estimator-id-2\" type=\"checkbox\" checked><label for=\"sk-estimator-id-2\" class=\"sk-toggleable__label sk-toggleable__label-arrow\">SVC</label><div class=\"sk-toggleable__content\"><pre>SVC()</pre></div></div></div></div></div>"
      ],
      "text/plain": [
       "SVC()"
      ]
     },
     "execution_count": 63,
     "metadata": {},
     "output_type": "execute_result"
    }
   ],
   "source": [
    "svm_clf = svm.SVC()\n",
    "svm_clf.fit(X_train, y_train)"
   ]
  },
  {
   "cell_type": "code",
   "execution_count": null,
   "metadata": {},
   "outputs": [],
   "source": [
    "y_pred_proba_svm = svm_clf.predict_proba(X_test)\n",
    "threshold = 0.3\n",
    "y_pred_svm = (y_pred_proba_svm[:,1] >= threshold).astype(bool)"
   ]
  }
 ],
 "metadata": {
  "kernelspec": {
   "display_name": "python3.9",
   "language": "python",
   "name": "python3.9"
  },
  "language_info": {
   "codemirror_mode": {
    "name": "ipython",
    "version": 3
   },
   "file_extension": ".py",
   "mimetype": "text/x-python",
   "name": "python",
   "nbconvert_exporter": "python",
   "pygments_lexer": "ipython3",
   "version": "3.9.5"
  }
 },
 "nbformat": 4,
 "nbformat_minor": 4
}
