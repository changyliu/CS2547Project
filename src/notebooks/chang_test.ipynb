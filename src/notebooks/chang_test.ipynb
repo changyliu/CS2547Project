{
 "cells": [
  {
   "cell_type": "code",
   "execution_count": 1,
   "metadata": {},
   "outputs": [],
   "source": [
    "import numpy as np\n",
    "import pandas as pd\n",
    "\n",
    "from scipy.optimize import curve_fit\n",
    "import matplotlib.pyplot as plt"
   ]
  },
  {
   "cell_type": "code",
   "execution_count": 2,
   "metadata": {},
   "outputs": [
    {
     "output_type": "execute_result",
     "data": {
      "text/plain": "        0         1\n0   61.17  0.000000\n1   71.59  0.000000\n2   93.36  0.000000\n3  113.55  0.043478\n4  123.90  0.125000\n5  141.66  0.225806\n6  157.85  0.150000\n7  164.68  0.200000\n8  176.17  0.416667\n9  199.81  0.560976",
      "text/html": "<div>\n<style scoped>\n    .dataframe tbody tr th:only-of-type {\n        vertical-align: middle;\n    }\n\n    .dataframe tbody tr th {\n        vertical-align: top;\n    }\n\n    .dataframe thead th {\n        text-align: right;\n    }\n</style>\n<table border=\"1\" class=\"dataframe\">\n  <thead>\n    <tr style=\"text-align: right;\">\n      <th></th>\n      <th>0</th>\n      <th>1</th>\n    </tr>\n  </thead>\n  <tbody>\n    <tr>\n      <th>0</th>\n      <td>61.17</td>\n      <td>0.000000</td>\n    </tr>\n    <tr>\n      <th>1</th>\n      <td>71.59</td>\n      <td>0.000000</td>\n    </tr>\n    <tr>\n      <th>2</th>\n      <td>93.36</td>\n      <td>0.000000</td>\n    </tr>\n    <tr>\n      <th>3</th>\n      <td>113.55</td>\n      <td>0.043478</td>\n    </tr>\n    <tr>\n      <th>4</th>\n      <td>123.90</td>\n      <td>0.125000</td>\n    </tr>\n    <tr>\n      <th>5</th>\n      <td>141.66</td>\n      <td>0.225806</td>\n    </tr>\n    <tr>\n      <th>6</th>\n      <td>157.85</td>\n      <td>0.150000</td>\n    </tr>\n    <tr>\n      <th>7</th>\n      <td>164.68</td>\n      <td>0.200000</td>\n    </tr>\n    <tr>\n      <th>8</th>\n      <td>176.17</td>\n      <td>0.416667</td>\n    </tr>\n    <tr>\n      <th>9</th>\n      <td>199.81</td>\n      <td>0.560976</td>\n    </tr>\n  </tbody>\n</table>\n</div>"
     },
     "metadata": {},
     "execution_count": 2
    }
   ],
   "source": [
    "exoshield_df = pd.read_csv('~/Downloads/ExoShield.csv', header = None)\n",
    "exoshield_df"
   ]
  },
  {
   "cell_type": "code",
   "execution_count": 3,
   "metadata": {},
   "outputs": [
    {
     "output_type": "execute_result",
     "data": {
      "text/plain": "         0     1\n0    32.57  0.00\n1    37.11  0.03\n2    39.37  0.07\n3    41.61  0.17\n4    48.25  0.13\n5    54.15  0.14\n6    93.36  0.50\n7    71.59  0.17\n8    79.00  0.18\n9    99.20  0.47\n10  113.55  0.49\n11  127.25  1.00",
      "text/html": "<div>\n<style scoped>\n    .dataframe tbody tr th:only-of-type {\n        vertical-align: middle;\n    }\n\n    .dataframe tbody tr th {\n        vertical-align: top;\n    }\n\n    .dataframe thead th {\n        text-align: right;\n    }\n</style>\n<table border=\"1\" class=\"dataframe\">\n  <thead>\n    <tr style=\"text-align: right;\">\n      <th></th>\n      <th>0</th>\n      <th>1</th>\n    </tr>\n  </thead>\n  <tbody>\n    <tr>\n      <th>0</th>\n      <td>32.57</td>\n      <td>0.00</td>\n    </tr>\n    <tr>\n      <th>1</th>\n      <td>37.11</td>\n      <td>0.03</td>\n    </tr>\n    <tr>\n      <th>2</th>\n      <td>39.37</td>\n      <td>0.07</td>\n    </tr>\n    <tr>\n      <th>3</th>\n      <td>41.61</td>\n      <td>0.17</td>\n    </tr>\n    <tr>\n      <th>4</th>\n      <td>48.25</td>\n      <td>0.13</td>\n    </tr>\n    <tr>\n      <th>5</th>\n      <td>54.15</td>\n      <td>0.14</td>\n    </tr>\n    <tr>\n      <th>6</th>\n      <td>93.36</td>\n      <td>0.50</td>\n    </tr>\n    <tr>\n      <th>7</th>\n      <td>71.59</td>\n      <td>0.17</td>\n    </tr>\n    <tr>\n      <th>8</th>\n      <td>79.00</td>\n      <td>0.18</td>\n    </tr>\n    <tr>\n      <th>9</th>\n      <td>99.20</td>\n      <td>0.47</td>\n    </tr>\n    <tr>\n      <th>10</th>\n      <td>113.55</td>\n      <td>0.49</td>\n    </tr>\n    <tr>\n      <th>11</th>\n      <td>127.25</td>\n      <td>1.00</td>\n    </tr>\n  </tbody>\n</table>\n</div>"
     },
     "metadata": {},
     "execution_count": 3
    }
   ],
   "source": [
    "laminated_glass_df = pd.read_csv('~/Downloads/laminated glass.csv', header = None)\n",
    "laminated_glass_df"
   ]
  },
  {
   "cell_type": "code",
   "execution_count": 11,
   "metadata": {},
   "outputs": [],
   "source": [
    "def sigmoid(x, L ,x0, k, b):\n",
    "    y = L / (1 + np.exp(-k*(x-x0))) + b\n",
    "    return (y)\n",
    "\n",
    "p0 = [max(exoshield_df[1]), np.median(exoshield_df[0]),0.0001,min(exoshield_df[1])] # this is an mandatory initial guess\n",
    "\n",
    "popt, pcov = curve_fit(sigmoid, exoshield_df[0], exoshield_df[1],p0, method='lm')\n",
    "\n",
    "# def fsigmoid(x, a, b):\n",
    "#     return 1.0 / (1.0 + np.exp(-a*(x-b)))\n",
    "\n",
    "# popt, pcov = curve_fit(fsigmoid, exoshield_df[0], exoshield_df[1], method='dogbox', p0=[np.median(exoshield_df[0]), 0.1])"
   ]
  },
  {
   "cell_type": "code",
   "execution_count": 12,
   "metadata": {},
   "outputs": [
    {
     "output_type": "execute_result",
     "data": {
      "text/plain": "array([ 1.10112848e+01,  3.39655777e+02,  2.01930312e-02, -4.87462248e-02])"
     },
     "metadata": {},
     "execution_count": 12
    }
   ],
   "source": [
    "popt"
   ]
  },
  {
   "cell_type": "code",
   "execution_count": 13,
   "metadata": {},
   "outputs": [
    {
     "output_type": "error",
     "ename": "SyntaxError",
     "evalue": "invalid syntax (<ipython-input-13-372906993e5d>, line 4)",
     "traceback": [
      "\u001b[0;36m  File \u001b[0;32m\"<ipython-input-13-372906993e5d>\"\u001b[0;36m, line \u001b[0;32m4\u001b[0m\n\u001b[0;31m    plt.plotexoshield_dff[0],exoshield_dff[1], 'o', label='data')\u001b[0m\n\u001b[0m                                                                ^\u001b[0m\n\u001b[0;31mSyntaxError\u001b[0m\u001b[0;31m:\u001b[0m invalid syntax\n"
     ]
    }
   ],
   "source": [
    "x = np.linspace(0, 2000,5000)\n",
    "y = sigmoid(x, *popt)\n",
    "\n",
    "plt.plotexoshield_dff[0],exoshield_dff[1], 'o', label='data')\n",
    "plt.plot(x,y, label='fit')\n",
    "plt.ylim(-0., 1))#  plt.xlim(-0.2 ,200)\n",
    "plt.legend(loc='best')"
   ]
  },
  {
   "cell_type": "code",
   "execution_count": null,
   "metadata": {},
   "outputs": [],
   "source": [
    "x = np.linspace(0, 200, 500)\n",
    "y = sigmoid(x, *popt)\n",
    "\n",
    "plt.plot(laminated_glass_df[0], laminated_glass_df[1], 'o', label='data')\n",
    "plt.plot(x,y, label='fit')\n",
    "plt.ylim(-0.2, 1)\n",
    "# plt.xlim(-0.2, 200)\n",
    "plt.legend(loc='best')"
   ]
  }
 ],
 "metadata": {
  "language_info": {
   "codemirror_mode": {
    "name": "ipython",
    "version": 3
   },
   "file_extension": ".py",
   "mimetype": "text/x-python",
   "name": "python",
   "nbconvert_exporter": "python",
   "pygments_lexer": "ipython3",
   "version": "3.7.7-final"
  },
  "orig_nbformat": 2,
  "kernelspec": {
   "name": "python3",
   "display_name": "Python 3"
  }
 },
 "nbformat": 4,
 "nbformat_minor": 2
}